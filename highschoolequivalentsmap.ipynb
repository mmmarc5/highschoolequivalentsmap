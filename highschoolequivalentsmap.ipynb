{
 "cells": [
  {
   "cell_type": "code",
   "execution_count": null,
   "metadata": {},
   "outputs": [],
   "source": [
    "import plotly.express as px\n",
    "import pandas as pd\n",
    "\n",
    "# Countries for each category\n",
    "strong_green = ['USA', 'GBR', 'AUS', 'NZL', 'DEU', 'IND', 'ZAF', 'CAN', 'PHL', 'RUS', 'SGP', 'NLD', 'KOR', 'MYS', 'BRA', 'CHN', 'FRA', 'NOR', 'SWE', 'FIN']\n",
    "strong_orange = ['ESP', 'ITA', 'PRT', 'GRC', 'JPN', 'TUR', 'MEX', 'ARG', 'SAU', 'ARE', 'EGY', 'ISR', 'DNK', 'BEL', 'CHE', 'AUT', 'CHL', 'PER', 'IDN', 'THA']\n",
    "light_green = ['BGD', 'PAK', 'NPL', 'IRL', 'HUN', 'POL', 'CZE', 'SVK', 'HRV', 'ROU', 'BGR', 'SRB', 'ALB', 'EST', 'LVA', 'LTU', 'KAZ', 'UZB', 'KGZ', 'TJK']\n",
    "light_orange = ['ISL', 'LUX', 'CYP', 'MLT', 'SVN', 'AND', 'SMR', 'MCO', 'LIE', 'VAT', 'COL', 'ECU', 'VEN', 'BOL', 'PRY', 'URY', 'MAR', 'DZA', 'TUN', 'LBY']\n",
    "\n",
    "# Creating a data frame\n",
    "df = pd.DataFrame({\n",
    "    'Country': strong_green + strong_orange + light_green + light_orange,\n",
    "    'Category': ['Strong Green']*len(strong_green) + ['Strong Orange']*len(strong_orange) + ['Light Green']*len(light_green) + ['Light Orange']*len(light_orange)\n",
    "})\n",
    "\n",
    "# Creating a color dictionary\n",
    "color_discrete_map = {'Strong Green': 'olivedrab', 'Strong Orange': 'darkorange', 'Light Green': 'yellowgreen', 'Light Orange': 'orange'}\n",
    "\n",
    "# Create the Choropleth\n",
    "fig = px.choropleth(df, \n",
    "                    locations=\"Country\",\n",
    "                    color=\"Category\",\n",
    "                    hover_name=\"Country\",\n",
    "                    color_discrete_map = color_discrete_map,\n",
    "                    projection=\"natural earth\")\n",
    "\n",
    "fig.show()"
   ]
  }
 ],
 "metadata": {
  "language_info": {
   "name": "python"
  },
  "orig_nbformat": 4
 },
 "nbformat": 4,
 "nbformat_minor": 2
}
